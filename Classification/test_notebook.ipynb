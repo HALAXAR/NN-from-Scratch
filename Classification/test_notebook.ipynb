{
 "cells": [
  {
   "cell_type": "code",
   "execution_count": 1,
   "id": "725b02bf",
   "metadata": {},
   "outputs": [],
   "source": [
    "import numpy as np\n",
    "import pandas as pd\n",
    "import matplotlib.pyplot as plt\n",
    "from sklearn.datasets import make_classification\n",
    "from sklearn.model_selection import train_test_split"
   ]
  },
  {
   "cell_type": "markdown",
   "id": "7a8a1adb",
   "metadata": {},
   "source": [
    "## Creating a simple dataset"
   ]
  },
  {
   "cell_type": "code",
   "execution_count": 7,
   "id": "8c307e78",
   "metadata": {},
   "outputs": [],
   "source": [
    "X, y = make_classification(\n",
    "    n_samples=1000,     \n",
    "    n_features=2,       \n",
    "    n_informative=2,    \n",
    "    n_redundant=0,      \n",
    "    n_classes=2,        \n",
    "    random_state=42     \n",
    ")"
   ]
  },
  {
   "cell_type": "code",
   "execution_count": 9,
   "id": "6a4a777b",
   "metadata": {},
   "outputs": [
    {
     "data": {
      "text/plain": [
       "(array([[-0.99910178, -0.66386   ],\n",
       "        [ 1.24668618,  1.15359685],\n",
       "        [ 0.96277683,  0.85939747],\n",
       "        [-2.95744095,  2.03364529],\n",
       "        [ 1.14116527,  1.05944863]]),\n",
       " array([1, 1, 1, 1, 1]))"
      ]
     },
     "execution_count": 9,
     "metadata": {},
     "output_type": "execute_result"
    }
   ],
   "source": [
    "X[:5,:5],y[:5]"
   ]
  },
  {
   "cell_type": "code",
   "execution_count": 15,
   "id": "79d463e0",
   "metadata": {},
   "outputs": [
    {
     "data": {
      "text/html": [
       "<div>\n",
       "<style scoped>\n",
       "    .dataframe tbody tr th:only-of-type {\n",
       "        vertical-align: middle;\n",
       "    }\n",
       "\n",
       "    .dataframe tbody tr th {\n",
       "        vertical-align: top;\n",
       "    }\n",
       "\n",
       "    .dataframe thead th {\n",
       "        text-align: right;\n",
       "    }\n",
       "</style>\n",
       "<table border=\"1\" class=\"dataframe\">\n",
       "  <thead>\n",
       "    <tr style=\"text-align: right;\">\n",
       "      <th></th>\n",
       "      <th>X1</th>\n",
       "      <th>X2</th>\n",
       "      <th>label</th>\n",
       "    </tr>\n",
       "  </thead>\n",
       "  <tbody>\n",
       "    <tr>\n",
       "      <th>0</th>\n",
       "      <td>-0.999102</td>\n",
       "      <td>-0.663860</td>\n",
       "      <td>1</td>\n",
       "    </tr>\n",
       "    <tr>\n",
       "      <th>1</th>\n",
       "      <td>1.246686</td>\n",
       "      <td>1.153597</td>\n",
       "      <td>1</td>\n",
       "    </tr>\n",
       "    <tr>\n",
       "      <th>2</th>\n",
       "      <td>0.962777</td>\n",
       "      <td>0.859397</td>\n",
       "      <td>1</td>\n",
       "    </tr>\n",
       "    <tr>\n",
       "      <th>3</th>\n",
       "      <td>-2.957441</td>\n",
       "      <td>2.033645</td>\n",
       "      <td>1</td>\n",
       "    </tr>\n",
       "    <tr>\n",
       "      <th>4</th>\n",
       "      <td>1.141165</td>\n",
       "      <td>1.059449</td>\n",
       "      <td>1</td>\n",
       "    </tr>\n",
       "  </tbody>\n",
       "</table>\n",
       "</div>"
      ],
      "text/plain": [
       "         X1        X2  label\n",
       "0 -0.999102 -0.663860      1\n",
       "1  1.246686  1.153597      1\n",
       "2  0.962777  0.859397      1\n",
       "3 -2.957441  2.033645      1\n",
       "4  1.141165  1.059449      1"
      ]
     },
     "execution_count": 15,
     "metadata": {},
     "output_type": "execute_result"
    }
   ],
   "source": [
    "dataset = pd.DataFrame({\"X1\":X[:,0], \"X2\":X[:,1], \"label\":y})\n",
    "dataset.head()"
   ]
  },
  {
   "cell_type": "code",
   "execution_count": 22,
   "id": "177e85aa",
   "metadata": {},
   "outputs": [],
   "source": [
    "X_train,X_test,y_train,y_test = train_test_split(X,y,test_size = 0.2,random_state=42)"
   ]
  },
  {
   "cell_type": "code",
   "execution_count": 23,
   "id": "5b923503",
   "metadata": {},
   "outputs": [
    {
     "data": {
      "text/plain": [
       "(800, 200)"
      ]
     },
     "execution_count": 23,
     "metadata": {},
     "output_type": "execute_result"
    }
   ],
   "source": [
    "len(X_train),len(y_test)"
   ]
  },
  {
   "cell_type": "markdown",
   "id": "d05c7b82",
   "metadata": {},
   "source": [
    "## Creating the Neural Network"
   ]
  },
  {
   "cell_type": "code",
   "execution_count": 42,
   "id": "705edda8",
   "metadata": {},
   "outputs": [],
   "source": [
    "class NeuralNetwork:\n",
    "    def __init__(self,input_size,hidden_size,output_size,loss_fn):\n",
    "        self.input_size = input_size\n",
    "        self.hidden_size = hidden_size\n",
    "        self.output_size = output_size\n",
    "        self.loss_fn = loss_fn\n",
    "        \n",
    "        # Initilizing the weights and biases\n",
    "        self.weights1 = np.random.randn(self.input_size,self.hidden_size)\n",
    "        self.biases1 = np.random.randn(self.output_size,self.hidden_size)\n",
    "        \n",
    "        self.weights2 = np.random.randn(self.hidden_size,self.output_size)\n",
    "        self.biases2 = np.random.randn(self.output_size)\n",
    "        \n",
    "    def __str__(self):\n",
    "        return f\"Neural Network Layout:\\n\\nInput Layer: {self.input_size} neurons\\nHidden Layer 1: {self.hidden_size} neurons\\nOutput Layer: {self.output_size} neurons\\nLoss Function: {self.loss_fn}\"\n",
    "    \n",
    "    def ReLU(self,x):\n",
    "        return np.maximum(0,x)\n",
    "    \n",
    "    def ReLU_derivative(self,x):\n",
    "        return np.where(x > 0, 1, 0) 3\n",
    "    \n",
    "    def sigmoid(self,x):\n",
    "        return 1/(1+np.exp(-x))\n",
    "    \n",
    "    def logloss(self,y_true,y_pred):\n",
    "        return -np.mean(y_true*np.log(y_pred) + (1-y_true)*np.log(1-y_pred))\n",
    "        \n",
    "    def logloss_derivative(self,x,y):\n",
    "        epsilon = 1e-8\n",
    "        return ((-y / (x + epsilon)) + ((1 - y) / (1 - x + epsilon)))\n",
    "    \n",
    "    def sigmoid_derivative(self,x):\n",
    "        return ((1/(1+np.exp(-x))) * (np.exp(-x)/(1 + np.exp(-x))))\n",
    "    \n",
    "    def forward(self,X):\n",
    "        # Input Layer -> Hidden Layer\n",
    "        self.z1 = np.dot(X,self.weights1) + self.biases1\n",
    "        self.a1 = self.ReLU(self.z1)\n",
    "        \n",
    "        # Hidden Layer -> Output Layer\n",
    "        self.z2 = np.dot(self.a1,self.weights2) + self.biases2\n",
    "        self.a2 = self.sigmoid(self.z2)\n",
    "        \n",
    "        # Returning Prediction\n",
    "        return self.a2\n",
    "    \n",
    "    def backpropagate(self,X,y,learning_rate):\n",
    "        \n",
    "        # Backpropagation for [hidden -> output] layer\n",
    "        dc_dw2 = self.a1 * self.sigmoid_derivative(self.z2) * self.logloss_derivative(self.a2,y)\n",
    "        dc_db2 = self.biases2 * self.sigmoid_derivative(self.z2) * self.logloss_derivative(self.a2,y)\n",
    "        \n",
    "        # Backpropagation for [input -> hidden] layer\n",
    "        dc_dw11 = X[0] * self.ReLU_derivative(self.z1[0][0]) * self.logloss_derivative(self.a1[0][0],y)\n",
    "        dc_dw12 = X[0] * self.ReLU_derivative(self.z1[0][1]) * self.logloss_derivative(self.a1[0][1],y)\n",
    "        dc_dw21 = X[1] * self.ReLU_derivative(self.z1[0][0]) * self.logloss_derivative(self.a1[0][0],y)\n",
    "        dc_dw22 = X[1] * self.ReLU_derivative(self.z1[0][1]) * self.logloss_derivative(self.a1[0][1],y)\n",
    "        \n",
    "        \n",
    "        # Updating weigths and biases using gradient descent\n",
    "        self.weights2 = self.weights2 - learning_rate*dc_dw2.T\n",
    "        self.biases2 = self.biases2 - learning_rate*dc_db2\n",
    "        \n",
    "        self.weights1[0][0] = self.weights1[0][0] - learning_rate*dc_dw11\n",
    "        self.weights1[0][1] = self.weights1[0][0] - learning_rate*dc_dw12\n",
    "        self.weights1[1][0] = self.weights1[0][0] - learning_rate*dc_dw21\n",
    "        self.weights1[1][1] = self.weights1[0][0] - learning_rate*dc_dw22"
   ]
  },
  {
   "cell_type": "code",
   "execution_count": 43,
   "id": "f73178de",
   "metadata": {},
   "outputs": [],
   "source": [
    "class Train:\n",
    "    def __init__(self,model,loss_fn='BCE'):\n",
    "        self.model = model\n",
    "        self.loss_fn = loss_fn\n",
    "        self.train_loss = []\n",
    "        self.test_loss = []\n",
    "    \n",
    "    def calculate_loss(self,y_true,y_pred):\n",
    "        return -np.mean(y_true*np.log(y_pred) + (1-y_true)*np.log(1-y_pred))\n",
    "    \n",
    "    def train(self,X_train,y_train,X_test,y_test,epochs,learning_rate):\n",
    "        for _ in range(epochs):\n",
    "            for i in range(len(X_train)):\n",
    "                self.model.forward(X_train[i])\n",
    "                self.model.backpropagate(X_train[i],y_train[i],learning_rate)\n",
    "                train_loss = self.calculate_loss(y_train[i],self.model.a2)\n",
    "                self.train_loss.append(train_loss)\n",
    "            for j in range(len(X_test)):\n",
    "                self.model.forward(X_test[j])\n",
    "                test_loss = self.calculate_loss(y_test[j],self.model.a2)\n",
    "                self.test_loss.append(test_loss)"
   ]
  },
  {
   "cell_type": "code",
   "execution_count": 44,
   "id": "735e65e4",
   "metadata": {
    "scrolled": true
   },
   "outputs": [
    {
     "name": "stdout",
     "output_type": "stream",
     "text": [
      "Neural Network Layout:\n",
      "\n",
      "Input Layer: 2 neurons\n",
      "Hidden Layer 1: 2 neurons\n",
      "Output Layer: 1 neurons\n",
      "Loss Function: BCE\n"
     ]
    }
   ],
   "source": [
    "NN = NeuralNetwork(2,2,1,'BCE')\n",
    "print(NN)"
   ]
  },
  {
   "cell_type": "code",
   "execution_count": 88,
   "id": "4188e1d0",
   "metadata": {},
   "outputs": [],
   "source": [
    "epochs = 110\n",
    "learning_rate = 1e-5"
   ]
  },
  {
   "cell_type": "code",
   "execution_count": 89,
   "id": "175b7586",
   "metadata": {},
   "outputs": [],
   "source": [
    "trainer = Train(NN, loss_fn='BCE')"
   ]
  },
  {
   "cell_type": "code",
   "execution_count": 90,
   "id": "cba671d9",
   "metadata": {},
   "outputs": [],
   "source": [
    "trainer.train(X_train,y_train,X_test,y_test,epochs,learning_rate)"
   ]
  },
  {
   "cell_type": "code",
   "execution_count": 91,
   "id": "37cf44a9",
   "metadata": {},
   "outputs": [
    {
     "data": {
      "text/plain": [
       "1.1102230246251565e-16"
      ]
     },
     "execution_count": 91,
     "metadata": {},
     "output_type": "execute_result"
    }
   ],
   "source": [
    "trainer.train_loss[3453]"
   ]
  },
  {
   "cell_type": "code",
   "execution_count": 92,
   "id": "ee005739",
   "metadata": {},
   "outputs": [],
   "source": [
    "e = []\n",
    "for i in range(len(trainer.train_loss)):\n",
    "    e.append(i)"
   ]
  },
  {
   "cell_type": "code",
   "execution_count": 93,
   "id": "480f8b43",
   "metadata": {},
   "outputs": [],
   "source": [
    "f = []\n",
    "for j in range(len(trainer.test_loss)):\n",
    "    f.append(j)"
   ]
  },
  {
   "cell_type": "code",
   "execution_count": 94,
   "id": "97694ac6",
   "metadata": {
    "scrolled": false
   },
   "outputs": [
    {
     "data": {
      "image/png": "[encoded data removed]",
      "text/plain": [
       "<Figure size 1100x500 with 2 Axes>"
      ]
     },
     "metadata": {},
     "output_type": "display_data"
    }
   ],
   "source": [
    "plt.figure(figsize=(11,5))\n",
    "plt.subplot(1, 2, 1)\n",
    "plt.grid()\n",
    "plt.scatter(e,trainer.train_loss,color='#3980fa')\n",
    "plt.title(\"Train Loss\")\n",
    "plt.xlabel(\"Epochs\")\n",
    "plt.ylabel(\"Train Loss\")\n",
    "# plt.legend(['train','test'])\n",
    "plt.subplot(1, 2, 2)\n",
    "plt.grid()\n",
    "plt.scatter(f,trainer.test_loss,color='#fa9d39')\n",
    "plt.title(\"Test Loss\")\n",
    "plt.xlabel(\"Epochs\")\n",
    "plt.ylabel(\"Test loss\")\n",
    "# plt.legend(['train','test'])\n",
    "plt.show()"
   ]
  },
  {
   "cell_type": "code",
   "execution_count": 3,
   "id": "4339fcdb",
   "metadata": {},
   "outputs": [
    {
     "name": "stdout",
     "output_type": "stream",
     "text": [
      "Epoch 0, Loss: 0.6931472128482831\n",
      "Epoch 10, Loss: 0.6892533944435241\n",
      "Epoch 20, Loss: 0.6869054845902228\n",
      "Epoch 30, Loss: 0.6854882788233905\n",
      "Epoch 40, Loss: 0.6846317940742823\n",
      "Epoch 50, Loss: 0.684113547373025\n",
      "Epoch 60, Loss: 0.6837996168626455\n",
      "Epoch 70, Loss: 0.6836092701107407\n",
      "Epoch 80, Loss: 0.6834937645538789\n",
      "Epoch 90, Loss: 0.6834236274066393\n",
      "Epoch 100, Loss: 0.6833810162631356\n",
      "Epoch 110, Loss: 0.6833551172325002\n",
      "Epoch 120, Loss: 0.6833393704299928\n",
      "Epoch 130, Loss: 0.683329793652547\n",
      "Epoch 140, Loss: 0.6833239680597717\n",
      "Epoch 150, Loss: 0.6833204237581049\n",
      "Epoch 160, Loss: 0.683318267106563\n",
      "Epoch 170, Loss: 0.6833169546763701\n",
      "Epoch 180, Loss: 0.6833161559322384\n",
      "Epoch 190, Loss: 0.6833156697922955\n"
     ]
    }
   ],
   "source": [
    "import numpy as np\n",
    "import math\n",
    "\n",
    "# Define the sigmoid and ReLU activation functions and their derivatives\n",
    "def sigmoid(x):\n",
    "    return 1 / (1 + np.exp(-x))\n",
    "\n",
    "def sigmoid_derivative(x):\n",
    "    s = sigmoid(x)  # Use the cached sigmoid value\n",
    "    return s * (1 - s)\n",
    "\n",
    "def relu(x):\n",
    "    return np.maximum(0, x)\n",
    "\n",
    "def relu_derivative(x):\n",
    "    return np.where(x > 0, 1, 0)\n",
    "\n",
    "def log_loss(y_true, y_pred):\n",
    "    # Ensure no log(0) errors\n",
    "    epsilon = 1e-15\n",
    "    y_pred = np.clip(y_pred, epsilon, 1 - epsilon)\n",
    "    return -np.mean(y_true * np.log(y_pred) + (1 - y_true) * np.log(1 - y_pred))\n",
    "\n",
    "# Neural network class\n",
    "class NeuralNetwork:\n",
    "    def __init__(self, input_size, hidden_size_1, hidden_size_2, output_size, learning_rate=0.01):\n",
    "        # Initialize weights and biases\n",
    "        self.weights1 = np.random.randn(input_size, hidden_size_1) * 0.01\n",
    "        self.bias1 = np.zeros((1, hidden_size_1))\n",
    "        self.weights2 = np.random.randn(hidden_size_1, hidden_size_2) * 0.01\n",
    "        self.bias2 = np.zeros((1, hidden_size_2))\n",
    "        self.weights3 = np.random.randn(hidden_size_2, output_size) * 0.01\n",
    "        self.bias3 = np.zeros((1, output_size))\n",
    "        self.learning_rate = learning_rate\n",
    "\n",
    "    def forward(self, X):\n",
    "        # Layer 1\n",
    "        self.z1 = np.dot(X, self.weights1) + self.bias1\n",
    "        self.a1 = relu(self.z1)\n",
    "\n",
    "        # Layer 2\n",
    "        self.z2 = np.dot(self.a1, self.weights2) + self.bias2\n",
    "        self.a2 = relu(self.z2)\n",
    "\n",
    "        # Output layer\n",
    "        self.z3 = np.dot(self.a2, self.weights3) + self.bias3\n",
    "        self.a3 = sigmoid(self.z3)\n",
    "\n",
    "        return self.a3\n",
    "\n",
    "    def backward(self, X, y):\n",
    "        m = X.shape[0]\n",
    "\n",
    "        # Output layer error\n",
    "        dz3 = self.a3 - y.reshape(-1, 1)\n",
    "        dw3 = np.dot(self.a2.T, dz3) / m\n",
    "        db3 = np.sum(dz3, axis=0, keepdims=True) / m\n",
    "\n",
    "        # Layer 2 error\n",
    "        dz2 = np.dot(dz3, self.weights3.T) * relu_derivative(self.z2)\n",
    "        dw2 = np.dot(self.a1.T, dz2) / m\n",
    "        db2 = np.sum(dz2, axis=0, keepdims=True) / m\n",
    "\n",
    "        # Layer 1 error\n",
    "        dz1 = np.dot(dz2, self.weights2.T) * relu_derivative(self.z1)\n",
    "        dw1 = np.dot(X.T, dz1) / m\n",
    "        db1 = np.sum(dz1, axis=0, keepdims=True) / m\n",
    "\n",
    "        # Update weights and biases\n",
    "        self.weights3 -= self.learning_rate * dw3\n",
    "        self.bias3 -= self.learning_rate * db3\n",
    "        self.weights2 -= self.learning_rate * dw2\n",
    "        self.bias2 -= self.learning_rate * db2\n",
    "        self.weights1 -= self.learning_rate * dw1\n",
    "        self.bias1 -= self.learning_rate * db1\n",
    "\n",
    "    def train(self, X, y, epochs=100):\n",
    "        for epoch in range(epochs):\n",
    "            # Forward pass\n",
    "            y_pred = self.forward(X)\n",
    "\n",
    "            # Compute loss\n",
    "            loss = log_loss(y, y_pred)\n",
    "\n",
    "            # Backward pass\n",
    "            self.backward(X, y)\n",
    "\n",
    "            # Print loss every 10 epochs\n",
    "            if epoch % 10 == 0:\n",
    "                print(f\"Epoch {epoch}, Loss: {loss}\")\n",
    "\n",
    "# Example usage\n",
    "if __name__ == \"__main__\":\n",
    "    # Generate some dummy data\n",
    "    np.random.seed(42)\n",
    "    X = np.random.rand(100, 2)  # 100 samples, 2 features\n",
    "    y = (np.sum(X, axis=1) > 1).astype(int)  # Binary classification based on sum of inputs\n",
    "\n",
    "    # Initialize and train the neural network\n",
    "    nn = NeuralNetwork(input_size=2, hidden_size_1=4, hidden_size_2=3, output_size=1, learning_rate=0.1)\n",
    "    nn.train(X, y, epochs=200)\n"
   ]
  },
  {
   "cell_type": "code",
   "execution_count": null,
   "id": "05920340",
   "metadata": {},
   "outputs": [],
   "source": []
  }
 ],
 "metadata": {
  "kernelspec": {
   "display_name": "Python 3 (ipykernel)",
   "language": "python",
   "name": "python3"
  },
  "language_info": {
   "codemirror_mode": {
    "name": "ipython",
    "version": 3
   },
   "file_extension": ".py",
   "mimetype": "text/x-python",
   "name": "python",
   "nbconvert_exporter": "python",
   "pygments_lexer": "ipython3",
   "version": "3.11.4"
  }
 },
 "nbformat": 4,
 "nbformat_minor": 5
}
