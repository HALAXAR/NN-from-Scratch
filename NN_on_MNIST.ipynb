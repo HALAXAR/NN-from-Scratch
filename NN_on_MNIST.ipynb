{
 "cells": [
  {
   "cell_type": "markdown",
   "id": "875cc7b5-1cf6-41cd-9168-07274e9bb514",
   "metadata": {},
   "source": [
    "# 1. Importing Necessary Libraries"
   ]
  },
  {
   "cell_type": "code",
   "execution_count": 2,
   "id": "35a69a94-9946-454d-9cb6-89e59f4bf47e",
   "metadata": {},
   "outputs": [],
   "source": [
    "import numpy as np\n",
    "import matplotlib.pyplot as plt\n",
    "import pandas as pd\n",
    "from sklearn.preprocessing import OneHotEncoder\n",
    "from sklearn.model_selection import train_test_split"
   ]
  },
  {
   "cell_type": "markdown",
   "id": "e8c19668-4706-4346-b703-4c7882026732",
   "metadata": {},
   "source": [
    "# 2. Accessing the dataset"
   ]
  },
  {
   "cell_type": "code",
   "execution_count": 4,
   "id": "fae5fcef-7f7c-401f-befc-4c23efbfc3df",
   "metadata": {},
   "outputs": [
    {
     "data": {
      "text/html": [
       "<div>\n",
       "<style scoped>\n",
       "    .dataframe tbody tr th:only-of-type {\n",
       "        vertical-align: middle;\n",
       "    }\n",
       "\n",
       "    .dataframe tbody tr th {\n",
       "        vertical-align: top;\n",
       "    }\n",
       "\n",
       "    .dataframe thead th {\n",
       "        text-align: right;\n",
       "    }\n",
       "</style>\n",
       "<table border=\"1\" class=\"dataframe\">\n",
       "  <thead>\n",
       "    <tr style=\"text-align: right;\">\n",
       "      <th></th>\n",
       "      <th>label</th>\n",
       "      <th>pixel0</th>\n",
       "      <th>pixel1</th>\n",
       "      <th>pixel2</th>\n",
       "      <th>pixel3</th>\n",
       "      <th>pixel4</th>\n",
       "      <th>pixel5</th>\n",
       "      <th>pixel6</th>\n",
       "      <th>pixel7</th>\n",
       "      <th>pixel8</th>\n",
       "      <th>...</th>\n",
       "      <th>pixel774</th>\n",
       "      <th>pixel775</th>\n",
       "      <th>pixel776</th>\n",
       "      <th>pixel777</th>\n",
       "      <th>pixel778</th>\n",
       "      <th>pixel779</th>\n",
       "      <th>pixel780</th>\n",
       "      <th>pixel781</th>\n",
       "      <th>pixel782</th>\n",
       "      <th>pixel783</th>\n",
       "    </tr>\n",
       "  </thead>\n",
       "  <tbody>\n",
       "    <tr>\n",
       "      <th>0</th>\n",
       "      <td>1</td>\n",
       "      <td>0</td>\n",
       "      <td>0</td>\n",
       "      <td>0</td>\n",
       "      <td>0</td>\n",
       "      <td>0</td>\n",
       "      <td>0</td>\n",
       "      <td>0</td>\n",
       "      <td>0</td>\n",
       "      <td>0</td>\n",
       "      <td>...</td>\n",
       "      <td>0</td>\n",
       "      <td>0</td>\n",
       "      <td>0</td>\n",
       "      <td>0</td>\n",
       "      <td>0</td>\n",
       "      <td>0</td>\n",
       "      <td>0</td>\n",
       "      <td>0</td>\n",
       "      <td>0</td>\n",
       "      <td>0</td>\n",
       "    </tr>\n",
       "    <tr>\n",
       "      <th>1</th>\n",
       "      <td>0</td>\n",
       "      <td>0</td>\n",
       "      <td>0</td>\n",
       "      <td>0</td>\n",
       "      <td>0</td>\n",
       "      <td>0</td>\n",
       "      <td>0</td>\n",
       "      <td>0</td>\n",
       "      <td>0</td>\n",
       "      <td>0</td>\n",
       "      <td>...</td>\n",
       "      <td>0</td>\n",
       "      <td>0</td>\n",
       "      <td>0</td>\n",
       "      <td>0</td>\n",
       "      <td>0</td>\n",
       "      <td>0</td>\n",
       "      <td>0</td>\n",
       "      <td>0</td>\n",
       "      <td>0</td>\n",
       "      <td>0</td>\n",
       "    </tr>\n",
       "    <tr>\n",
       "      <th>2</th>\n",
       "      <td>1</td>\n",
       "      <td>0</td>\n",
       "      <td>0</td>\n",
       "      <td>0</td>\n",
       "      <td>0</td>\n",
       "      <td>0</td>\n",
       "      <td>0</td>\n",
       "      <td>0</td>\n",
       "      <td>0</td>\n",
       "      <td>0</td>\n",
       "      <td>...</td>\n",
       "      <td>0</td>\n",
       "      <td>0</td>\n",
       "      <td>0</td>\n",
       "      <td>0</td>\n",
       "      <td>0</td>\n",
       "      <td>0</td>\n",
       "      <td>0</td>\n",
       "      <td>0</td>\n",
       "      <td>0</td>\n",
       "      <td>0</td>\n",
       "    </tr>\n",
       "    <tr>\n",
       "      <th>3</th>\n",
       "      <td>4</td>\n",
       "      <td>0</td>\n",
       "      <td>0</td>\n",
       "      <td>0</td>\n",
       "      <td>0</td>\n",
       "      <td>0</td>\n",
       "      <td>0</td>\n",
       "      <td>0</td>\n",
       "      <td>0</td>\n",
       "      <td>0</td>\n",
       "      <td>...</td>\n",
       "      <td>0</td>\n",
       "      <td>0</td>\n",
       "      <td>0</td>\n",
       "      <td>0</td>\n",
       "      <td>0</td>\n",
       "      <td>0</td>\n",
       "      <td>0</td>\n",
       "      <td>0</td>\n",
       "      <td>0</td>\n",
       "      <td>0</td>\n",
       "    </tr>\n",
       "    <tr>\n",
       "      <th>4</th>\n",
       "      <td>0</td>\n",
       "      <td>0</td>\n",
       "      <td>0</td>\n",
       "      <td>0</td>\n",
       "      <td>0</td>\n",
       "      <td>0</td>\n",
       "      <td>0</td>\n",
       "      <td>0</td>\n",
       "      <td>0</td>\n",
       "      <td>0</td>\n",
       "      <td>...</td>\n",
       "      <td>0</td>\n",
       "      <td>0</td>\n",
       "      <td>0</td>\n",
       "      <td>0</td>\n",
       "      <td>0</td>\n",
       "      <td>0</td>\n",
       "      <td>0</td>\n",
       "      <td>0</td>\n",
       "      <td>0</td>\n",
       "      <td>0</td>\n",
       "    </tr>\n",
       "  </tbody>\n",
       "</table>\n",
       "<p>5 rows × 785 columns</p>\n",
       "</div>"
      ],
      "text/plain": [
       "   label  pixel0  pixel1  pixel2  pixel3  pixel4  pixel5  pixel6  pixel7  \\\n",
       "0      1       0       0       0       0       0       0       0       0   \n",
       "1      0       0       0       0       0       0       0       0       0   \n",
       "2      1       0       0       0       0       0       0       0       0   \n",
       "3      4       0       0       0       0       0       0       0       0   \n",
       "4      0       0       0       0       0       0       0       0       0   \n",
       "\n",
       "   pixel8  ...  pixel774  pixel775  pixel776  pixel777  pixel778  pixel779  \\\n",
       "0       0  ...         0         0         0         0         0         0   \n",
       "1       0  ...         0         0         0         0         0         0   \n",
       "2       0  ...         0         0         0         0         0         0   \n",
       "3       0  ...         0         0         0         0         0         0   \n",
       "4       0  ...         0         0         0         0         0         0   \n",
       "\n",
       "   pixel780  pixel781  pixel782  pixel783  \n",
       "0         0         0         0         0  \n",
       "1         0         0         0         0  \n",
       "2         0         0         0         0  \n",
       "3         0         0         0         0  \n",
       "4         0         0         0         0  \n",
       "\n",
       "[5 rows x 785 columns]"
      ]
     },
     "execution_count": 4,
     "metadata": {},
     "output_type": "execute_result"
    }
   ],
   "source": [
    "df_train = pd.read_csv(\"./dataset/train.csv\")\n",
    "df_train.head()"
   ]
  },
  {
   "cell_type": "code",
   "execution_count": 5,
   "id": "dc98c3c0-27a8-4b93-9c09-e3b9dd300496",
   "metadata": {},
   "outputs": [
    {
     "data": {
      "text/plain": [
       "42000"
      ]
     },
     "execution_count": 5,
     "metadata": {},
     "output_type": "execute_result"
    }
   ],
   "source": [
    "len(df_train)"
   ]
  },
  {
   "cell_type": "code",
   "execution_count": 6,
   "id": "e46e3d2a-0f6c-4e01-89ec-548a02e9866d",
   "metadata": {},
   "outputs": [
    {
     "data": {
      "text/plain": [
       "array([1, 0, 1, ..., 7, 6, 9], dtype=int64)"
      ]
     },
     "execution_count": 6,
     "metadata": {},
     "output_type": "execute_result"
    }
   ],
   "source": [
    "train_labels = df_train.iloc[:,0].values\n",
    "train_labels"
   ]
  },
  {
   "cell_type": "code",
   "execution_count": 7,
   "id": "cd0db76d-2956-4fe7-bfaf-bab4960d4bdd",
   "metadata": {},
   "outputs": [
    {
     "data": {
      "text/plain": [
       "(42000,)"
      ]
     },
     "execution_count": 7,
     "metadata": {},
     "output_type": "execute_result"
    }
   ],
   "source": [
    "train_labels.shape"
   ]
  },
  {
   "cell_type": "code",
   "execution_count": 8,
   "id": "4b2c52dd-a5ac-47fd-8151-9b974af5924c",
   "metadata": {},
   "outputs": [],
   "source": [
    "train_labels = train_labels.reshape(-1,1)\n",
    "encoder = OneHotEncoder(sparse_output=False)\n",
    "train_labels = encoder.fit_transform(train_labels)"
   ]
  },
  {
   "cell_type": "code",
   "execution_count": 9,
   "id": "20fdc567-7783-4b6b-ae0f-6bf109d7bb10",
   "metadata": {},
   "outputs": [
    {
     "data": {
      "text/plain": [
       "array([[0., 1., 0., ..., 0., 0., 0.],\n",
       "       [1., 0., 0., ..., 0., 0., 0.],\n",
       "       [0., 1., 0., ..., 0., 0., 0.],\n",
       "       ...,\n",
       "       [0., 0., 0., ..., 1., 0., 0.],\n",
       "       [0., 0., 0., ..., 0., 0., 0.],\n",
       "       [0., 0., 0., ..., 0., 0., 1.]])"
      ]
     },
     "execution_count": 9,
     "metadata": {},
     "output_type": "execute_result"
    }
   ],
   "source": [
    "train_labels"
   ]
  },
  {
   "cell_type": "code",
   "execution_count": 10,
   "id": "0b2791b3-8e36-41db-86db-7d78d212f597",
   "metadata": {},
   "outputs": [
    {
     "data": {
      "text/plain": [
       "array([[0, 0, 0, ..., 0, 0, 0],\n",
       "       [0, 0, 0, ..., 0, 0, 0],\n",
       "       [0, 0, 0, ..., 0, 0, 0],\n",
       "       ...,\n",
       "       [0, 0, 0, ..., 0, 0, 0],\n",
       "       [0, 0, 0, ..., 0, 0, 0],\n",
       "       [0, 0, 0, ..., 0, 0, 0]], dtype=int64)"
      ]
     },
     "execution_count": 10,
     "metadata": {},
     "output_type": "execute_result"
    }
   ],
   "source": [
    "train_pixels = df_train.iloc[:,1:].values\n",
    "train_pixels"
   ]
  },
  {
   "cell_type": "code",
   "execution_count": 11,
   "id": "fd0218c5-d87e-4b1c-b8f4-04be50846119",
   "metadata": {},
   "outputs": [
    {
     "data": {
      "text/plain": [
       "(42000, 784)"
      ]
     },
     "execution_count": 11,
     "metadata": {},
     "output_type": "execute_result"
    }
   ],
   "source": [
    "train_pixels.shape"
   ]
  },
  {
   "cell_type": "code",
   "execution_count": 12,
   "id": "91ca02a6-5173-4e52-922c-4b0b9d13507d",
   "metadata": {},
   "outputs": [],
   "source": [
    "X_train,X_test,y_train,y_test = train_test_split(train_pixels,train_labels,test_size=0.2,random_state=42)"
   ]
  },
  {
   "cell_type": "markdown",
   "id": "70c71502-48c3-4cd6-b2f7-497320bb9a1a",
   "metadata": {},
   "source": [
    "# Implementing Neural Network"
   ]
  },
  {
   "cell_type": "code",
   "execution_count": 13,
   "id": "75be036b-3930-4b52-9148-5a46eac7c3e7",
   "metadata": {},
   "outputs": [],
   "source": [
    "class NeuralNetwork:\n",
    "    def __init__(self, input_size, hidden_size_1, hidden_size_2, output_size, learning_rate=0.01):\n",
    "        self.input_size = input_size\n",
    "        self.hidden_size_1 = hidden_size_1\n",
    "        self.hidden_size_2 = hidden_size_2\n",
    "        self.output_size = output_size\n",
    "        self.learning_rate = learning_rate\n",
    "        self.train_loss = []\n",
    "        self.test_loss = []\n",
    "\n",
    "        # PARAMETER INITIALIZATION\n",
    "        self.weights1 = np.random.randn(self.input_size, self.hidden_size_1) * 0.01\n",
    "        self.biases1 = np.zeros((1, self.hidden_size_1))\n",
    "\n",
    "        self.weights2 = np.random.randn(self.hidden_size_1, self.hidden_size_2) * 0.01\n",
    "        self.biases2 = np.zeros((1, self.hidden_size_2))\n",
    "\n",
    "        self.weights3 = np.random.randn(self.hidden_size_2, self.output_size) * 0.01\n",
    "        self.biases3 = np.zeros((1, self.output_size))\n",
    "\n",
    "    def __str__(self):\n",
    "        return f\"Neural Network Layout:\\n\\nInput Layer: {self.input_size} neurons\\nHidden Layer 1: {self.hidden_size_1} neurons\\nHidden Layer 2: {self.hidden_size_2} neurons\\nOutput Layer: {self.output_size} neurons\\nLoss Function: CrossEntropyLoss\"\n",
    "\n",
    "    def softmax(self, x):\n",
    "        \"\"\"Correct softmax implementation\"\"\"\n",
    "        exp_x = np.exp(x - np.max(x, axis=1, keepdims=True))  # Stability trick\n",
    "        return exp_x / np.sum(exp_x, axis=1, keepdims=True)\n",
    "\n",
    "    def relu(self, x):\n",
    "        return np.maximum(0, x)\n",
    "\n",
    "    def relu_derivative(self, x):\n",
    "        return (x > 0).astype(float)\n",
    "\n",
    "    def cross_entropy_loss(self, y_true, y_pred):\n",
    "        \"\"\"Computes the categorical cross-entropy loss\"\"\"\n",
    "        epsilon = 1e-15\n",
    "        y_pred = np.clip(y_pred, epsilon, 1 - epsilon)\n",
    "        return -np.sum(y_true * np.log(y_pred)) / y_true.shape[0]\n",
    "\n",
    "    def forward(self, X):\n",
    "        \"\"\"Forward propagation\"\"\"\n",
    "        self.z1 = np.dot(X, self.weights1) + self.biases1\n",
    "        self.a1 = self.relu(self.z1)\n",
    "\n",
    "        self.z2 = np.dot(self.a1, self.weights2) + self.biases2\n",
    "        self.a2 = self.relu(self.z2)\n",
    "\n",
    "        self.z3 = np.dot(self.a2, self.weights3) + self.biases3\n",
    "        self.a3 = self.softmax(self.z3)  # Output layer with softmax\n",
    "\n",
    "        return self.a3\n",
    "\n",
    "    def backpropagate(self, X, y_true):\n",
    "        \"\"\"Backpropagation with categorical cross-entropy loss\"\"\"\n",
    "        m = X.shape[0]\n",
    "\n",
    "        # Output layer error\n",
    "        dz3 = self.a3 - y_true  # Gradient of softmax + cross-entropy\n",
    "        dw3 = np.dot(self.a2.T, dz3) / m\n",
    "        db3 = np.sum(dz3, axis=0, keepdims=True) / m\n",
    "\n",
    "        # Hidden layer 2 error\n",
    "        dz2 = np.dot(dz3, self.weights3.T) * self.relu_derivative(self.z2)\n",
    "        dw2 = np.dot(self.a1.T, dz2) / m\n",
    "        db2 = np.sum(dz2, axis=0, keepdims=True) / m\n",
    "\n",
    "        # Hidden layer 1 error\n",
    "        dz1 = np.dot(dz2, self.weights2.T) * self.relu_derivative(self.z1)\n",
    "        dw1 = np.dot(X.T, dz1) / m\n",
    "        db1 = np.sum(dz1, axis=0, keepdims=True) / m\n",
    "\n",
    "        # Update parameters\n",
    "        self.weights3 -= self.learning_rate * dw3\n",
    "        self.biases3 -= self.learning_rate * db3\n",
    "        self.weights2 -= self.learning_rate * dw2\n",
    "        self.biases2 -= self.learning_rate * db2\n",
    "        self.weights1 -= self.learning_rate * dw1\n",
    "        self.biases1 -= self.learning_rate * db1\n",
    "\n",
    "    def train(self, X, y, epochs=100):\n",
    "        \"\"\"Train the neural network\"\"\"\n",
    "        for epoch in range(epochs):\n",
    "            y_pred = self.forward(X)  # Forward pass\n",
    "            loss = self.cross_entropy_loss(y, y_pred)  # Compute loss\n",
    "            self.train_loss.append(loss)\n",
    "            self.backpropagate(X, y)  # Backpropagation\n",
    "\n",
    "            if epoch % 10 == 0:\n",
    "                print(f\"Epoch: {epoch} | Train Loss: {loss:.4f}\")\n",
    "\n",
    "    def test(self, X, y, epochs=100):\n",
    "        \"\"\"Test the neural network\"\"\"\n",
    "        for epoch in range(epochs):\n",
    "            y_pred = self.forward(X)\n",
    "            loss = self.cross_entropy_loss(y, y_pred)\n",
    "            self.test_loss.append(loss)\n",
    "\n",
    "            if epoch % 10 == 0:\n",
    "                print(f\"Epoch: {epoch} | Test Loss: {loss:.4f}\")\n"
   ]
  },
  {
   "cell_type": "code",
   "execution_count": 14,
   "id": "fb7d8e5a-da09-49a2-bec8-a95dae30fa0b",
   "metadata": {},
   "outputs": [
    {
     "name": "stdout",
     "output_type": "stream",
     "text": [
      "Neural Network Layout:\n",
      "\n",
      "Input Layer: 784 neurons\n",
      "Hidden Layer 1: 16 neurons\n",
      "Hidden Layer 2: 16 neurons\n",
      "Output Layer: 10 neurons\n",
      "Loss Function: CrossEntropyLoss\n"
     ]
    }
   ],
   "source": [
    "NN = NeuralNetwork(input_size=784,hidden_size_1=16,hidden_size_2=16,output_size=10)\n",
    "print(NN)"
   ]
  },
  {
   "cell_type": "code",
   "execution_count": 15,
   "id": "c53eb82c-4d06-4155-83b2-b38a6937e6f9",
   "metadata": {},
   "outputs": [
    {
     "name": "stdout",
     "output_type": "stream",
     "text": [
      "Epoch: 0 | Train Loss: 2.3029\n",
      "Epoch: 10 | Train Loss: 2.2921\n",
      "Epoch: 20 | Train Loss: 2.2515\n",
      "Epoch: 30 | Train Loss: 2.0230\n",
      "Epoch: 40 | Train Loss: 1.3287\n",
      "Epoch: 50 | Train Loss: 1.7549\n",
      "Epoch: 60 | Train Loss: 1.3745\n",
      "Epoch: 70 | Train Loss: 1.6580\n",
      "Epoch: 80 | Train Loss: 1.1297\n",
      "Epoch: 90 | Train Loss: 1.0378\n",
      "Epoch: 100 | Train Loss: 1.0048\n",
      "Epoch: 110 | Train Loss: 0.9319\n",
      "Epoch: 120 | Train Loss: 0.8825\n",
      "Epoch: 130 | Train Loss: 0.8949\n",
      "Epoch: 140 | Train Loss: 0.6705\n",
      "Epoch: 150 | Train Loss: 0.5876\n",
      "Epoch: 160 | Train Loss: 0.4970\n",
      "Epoch: 170 | Train Loss: 0.5061\n",
      "Epoch: 180 | Train Loss: 0.4780\n",
      "Epoch: 190 | Train Loss: 0.4146\n",
      "Epoch: 200 | Train Loss: 0.3917\n"
     ]
    }
   ],
   "source": [
    "NN.train(X_train,y_train,epochs=201)"
   ]
  },
  {
   "cell_type": "code",
   "execution_count": 16,
   "id": "f7139dd5-e505-4e83-98a8-f931d1165188",
   "metadata": {},
   "outputs": [
    {
     "name": "stdout",
     "output_type": "stream",
     "text": [
      "Epoch: 0 | Test Loss: 0.4045\n",
      "Epoch: 10 | Test Loss: 0.4045\n",
      "Epoch: 20 | Test Loss: 0.4045\n",
      "Epoch: 30 | Test Loss: 0.4045\n",
      "Epoch: 40 | Test Loss: 0.4045\n",
      "Epoch: 50 | Test Loss: 0.4045\n",
      "Epoch: 60 | Test Loss: 0.4045\n",
      "Epoch: 70 | Test Loss: 0.4045\n",
      "Epoch: 80 | Test Loss: 0.4045\n",
      "Epoch: 90 | Test Loss: 0.4045\n",
      "Epoch: 100 | Test Loss: 0.4045\n",
      "Epoch: 110 | Test Loss: 0.4045\n",
      "Epoch: 120 | Test Loss: 0.4045\n",
      "Epoch: 130 | Test Loss: 0.4045\n",
      "Epoch: 140 | Test Loss: 0.4045\n",
      "Epoch: 150 | Test Loss: 0.4045\n",
      "Epoch: 160 | Test Loss: 0.4045\n",
      "Epoch: 170 | Test Loss: 0.4045\n",
      "Epoch: 180 | Test Loss: 0.4045\n",
      "Epoch: 190 | Test Loss: 0.4045\n",
      "Epoch: 200 | Test Loss: 0.4045\n"
     ]
    }
   ],
   "source": [
    "NN.test(X_test,y_test,epochs=201)"
   ]
  },
  {
   "cell_type": "code",
   "execution_count": 17,
   "id": "277b5939-4867-46a9-92d7-02e9f26d47dd",
   "metadata": {},
   "outputs": [],
   "source": [
    "epochs = []\n",
    "for i in range(201):\n",
    "    epochs.append(i)"
   ]
  },
  {
   "cell_type": "code",
   "execution_count": 18,
   "id": "fa62baf2-fa49-4bfc-8553-c50ed86de2d7",
   "metadata": {},
   "outputs": [
    {
     "data": {
      "text/plain": [
       "[<matplotlib.lines.Line2D at 0x249075063c0>]"
      ]
     },
     "execution_count": 18,
     "metadata": {},
     "output_type": "execute_result"
    },
    {
     "data": {
      "image/png": "[encoded data removed]",
      "text/plain": [
       "<Figure size 640x480 with 1 Axes>"
      ]
     },
     "metadata": {},
     "output_type": "display_data"
    }
   ],
   "source": [
    "plt.plot(epochs,NN.train_loss)"
   ]
  },
  {
   "cell_type": "code",
   "execution_count": 20,
   "id": "adb10fd4-e882-4222-acb3-9d87fad4ccbc",
   "metadata": {},
   "outputs": [
    {
     "data": {
      "text/plain": [
       "[<matplotlib.lines.Line2D at 0x24907784230>]"
      ]
     },
     "execution_count": 20,
     "metadata": {},
     "output_type": "execute_result"
    },
    {
     "data": {
      "image/png": "[encoded data removed]",
      "text/plain": [
       "<Figure size 640x480 with 1 Axes>"
      ]
     },
     "metadata": {},
     "output_type": "display_data"
    }
   ],
   "source": [
    "plt.plot(epochs,NN.test_loss)"
   ]
  },
  {
   "cell_type": "code",
   "execution_count": null,
   "id": "6e9326ab-653f-4d8e-a7f9-ae2fdad4283d",
   "metadata": {},
   "outputs": [],
   "source": []
  }
 ],
 "metadata": {
  "kernelspec": {
   "display_name": "Python 3 (ipykernel)",
   "language": "python",
   "name": "python3"
  },
  "language_info": {
   "codemirror_mode": {
    "name": "ipython",
    "version": 3
   },
   "file_extension": ".py",
   "mimetype": "text/x-python",
   "name": "python",
   "nbconvert_exporter": "python",
   "pygments_lexer": "ipython3",
   "version": "3.12.7"
  }
 },
 "nbformat": 4,
 "nbformat_minor": 5
}
